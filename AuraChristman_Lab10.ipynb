{
  "cells": [
    {
      "cell_type": "markdown",
      "metadata": {
        "id": "0M0HpM0l1BY0"
      },
      "source": [
        "# OPAN5505 Lab 3 Assignment\n",
        "\n",
        "## Background\n",
        "\n",
        "You've been engaged by the Federal Aviation Administration to perform an analysis on \"strike\" data. A \"strike\" refers to when an aircraft and an object within the air (typically wildlife) collide."
      ]
    },
    {
      "cell_type": "markdown",
      "metadata": {
        "id": "7cwt9ep_1BY1"
      },
      "source": [
        "## Prepare your environment\n",
        "\n",
        "You will need the `polars` package for this assignment. We'll also use `datetime` for date handling."
      ]
    },
    {
      "cell_type": "code",
      "execution_count": 1,
      "metadata": {
        "colab": {
          "base_uri": "https://localhost:8080/"
        },
        "id": "bUNDVgq21BY1",
        "outputId": "3dea8de0-1675-46e3-98d5-4b146584ba6d"
      },
      "outputs": [
        {
          "output_type": "stream",
          "name": "stdout",
          "text": [
            "Using Polars version 1.25.2\n"
          ]
        }
      ],
      "source": [
        "# Import required libraries\n",
        "\n",
        "import polars as pl\n",
        "from datetime import datetime\n",
        "\n",
        "print(f\"Using Polars version {pl.__version__}\")"
      ]
    },
    {
      "cell_type": "markdown",
      "metadata": {
        "id": "nhICybco1BY1"
      },
      "source": [
        "## Load your dataset\n",
        "\n",
        "Read the `faa_strikes.txt` dataset into Polars. Name the resulting DataFrame `strikes`."
      ]
    },
    {
      "cell_type": "code",
      "execution_count": 10,
      "metadata": {
        "id": "oxSr6Frj1BY2"
      },
      "outputs": [],
      "source": [
        "# Read the faa_strikes.txt data\n",
        "\n",
        "strikes = pl.read_csv('/content/faa_strikes.txt', truncate_ragged_lines=True, separator='\\t')"
      ]
    },
    {
      "cell_type": "code",
      "source": [
        "from google.colab import drive\n",
        "drive.mount('/content/drive')"
      ],
      "metadata": {
        "id": "GJIxOb1n-BCE"
      },
      "execution_count": null,
      "outputs": []
    },
    {
      "cell_type": "markdown",
      "metadata": {
        "id": "oTO0LSXR1BY2"
      },
      "source": [
        "## Question 1: Running total of strikes by day through 2013\n",
        "\n",
        "You are interested in seeing the running total of strikes over time (`Collision Date and Time`) on a daily basis. Using the `strikes` dataframe, create a new column that removes the time information but keeps the date information from the `Collision Date and Time` column (call this new field `date`). Next, aggregate the `Number of Strikes` by day (call this new field `daily_strikes`). Sort the data in ascending order by `date`. Then, create the running total of `daily_strikes` (name the new field `strikes_cumulative`) and filter to only the records **up to and including** the `date` of 2013-12-31. Name the resulting data frame `running_total_strikes`.\n",
        "\n",
        "*Please place a Python code block and code below. The output should be a DataFrame. You must use a window function to receive credit on this question.*"
      ]
    },
    {
      "cell_type": "code",
      "execution_count": 17,
      "metadata": {
        "colab": {
          "base_uri": "https://localhost:8080/",
          "height": 443
        },
        "id": "PLjyBrel1BY2",
        "outputId": "70d21480-5d2c-4966-8cba-e84532f42e40"
      },
      "outputs": [
        {
          "output_type": "display_data",
          "data": {
            "text/plain": [
              "shape: (4_776, 3)\n",
              "┌────────────┬───────────────┬────────────────────┐\n",
              "│ date       ┆ daily_strikes ┆ strikes_cumulative │\n",
              "│ ---        ┆ ---           ┆ ---                │\n",
              "│ date       ┆ i64           ┆ i64                │\n",
              "╞════════════╪═══════════════╪════════════════════╡\n",
              "│ 2000-01-02 ┆ 1             ┆ 1                  │\n",
              "│ 2000-01-03 ┆ 2             ┆ 2                  │\n",
              "│ 2000-01-05 ┆ 3             ┆ 3                  │\n",
              "│ 2000-01-06 ┆ 1             ┆ 1                  │\n",
              "│ 2000-01-08 ┆ 4             ┆ 4                  │\n",
              "│ …          ┆ …             ┆ …                  │\n",
              "│ 2013-12-27 ┆ 6             ┆ 6                  │\n",
              "│ 2013-12-28 ┆ 1             ┆ 1                  │\n",
              "│ 2013-12-29 ┆ 2             ┆ 2                  │\n",
              "│ 2013-12-30 ┆ 4             ┆ 4                  │\n",
              "│ 2013-12-31 ┆ 6             ┆ 6                  │\n",
              "└────────────┴───────────────┴────────────────────┘"
            ],
            "text/html": [
              "<div><style>\n",
              ".dataframe > thead > tr,\n",
              ".dataframe > tbody > tr {\n",
              "  text-align: right;\n",
              "  white-space: pre-wrap;\n",
              "}\n",
              "</style>\n",
              "<small>shape: (4_776, 3)</small><table border=\"1\" class=\"dataframe\"><thead><tr><th>date</th><th>daily_strikes</th><th>strikes_cumulative</th></tr><tr><td>date</td><td>i64</td><td>i64</td></tr></thead><tbody><tr><td>2000-01-02</td><td>1</td><td>1</td></tr><tr><td>2000-01-03</td><td>2</td><td>2</td></tr><tr><td>2000-01-05</td><td>3</td><td>3</td></tr><tr><td>2000-01-06</td><td>1</td><td>1</td></tr><tr><td>2000-01-08</td><td>4</td><td>4</td></tr><tr><td>&hellip;</td><td>&hellip;</td><td>&hellip;</td></tr><tr><td>2013-12-27</td><td>6</td><td>6</td></tr><tr><td>2013-12-28</td><td>1</td><td>1</td></tr><tr><td>2013-12-29</td><td>2</td><td>2</td></tr><tr><td>2013-12-30</td><td>4</td><td>4</td></tr><tr><td>2013-12-31</td><td>6</td><td>6</td></tr></tbody></table></div>"
            ]
          },
          "metadata": {}
        }
      ],
      "source": [
        "# Your code here\n",
        "\n",
        "running_total_strikes = (\n",
        "    strikes\n",
        "    .with_columns(\n",
        "        date = pl.col('Collision Date and Time').str.slice(0,10).str.strptime(pl.Date, \"%Y-%m-%d\")\n",
        "    )\n",
        "    .group_by('date')\n",
        "    .agg(\n",
        "        daily_strikes = pl.col('Number of Strikes').sum()\n",
        "    )\n",
        "    .sort('date')\n",
        "    .with_columns(\n",
        "        strikes_cumulative = pl.col('daily_strikes').cum_sum().over(pl.col('date'))\n",
        "    )\n",
        "    .filter(pl.col('date') <= datetime(2013, 12, 31))\n",
        ")\n",
        "\n",
        "display(running_total_strikes)"
      ]
    },
    {
      "cell_type": "markdown",
      "metadata": {
        "id": "hYjNGPsB1BY2"
      },
      "source": [
        "## Question 2: States with the third highest financial cost\n",
        "\n",
        "The FAA is interested in the financial cost of strikes for each `Origin State`. Using the `strikes` dataframe: first, sum `Cost: Total $` by `Origin State` (name the resulting column `damage`) then `rank` these states in order of which state had the most financial `damage` (name the new column with rank information, `ranking`). Next, filter to show the row with the third highest `ranking`. Use a window function to answer this question. Name the resulting dataframe `damage_state`.\n",
        "\n",
        "*Please place a Python code block and code below. The output should be a DataFrame. You must use a window function to receive credit on this question.*"
      ]
    },
    {
      "cell_type": "code",
      "execution_count": 20,
      "metadata": {
        "colab": {
          "base_uri": "https://localhost:8080/",
          "height": 129
        },
        "id": "Tgu1OUjv1BY2",
        "outputId": "0436b101-ab9c-47c4-9583-9c15141d051f"
      },
      "outputs": [
        {
          "output_type": "display_data",
          "data": {
            "text/plain": [
              "shape: (1, 3)\n",
              "┌──────────────┬──────────┬─────────┐\n",
              "│ Origin State ┆ damage   ┆ ranking │\n",
              "│ ---          ┆ ---      ┆ ---     │\n",
              "│ str          ┆ i64      ┆ u32     │\n",
              "╞══════════════╪══════════╪═════════╡\n",
              "│ California   ┆ 29671432 ┆ 3       │\n",
              "└──────────────┴──────────┴─────────┘"
            ],
            "text/html": [
              "<div><style>\n",
              ".dataframe > thead > tr,\n",
              ".dataframe > tbody > tr {\n",
              "  text-align: right;\n",
              "  white-space: pre-wrap;\n",
              "}\n",
              "</style>\n",
              "<small>shape: (1, 3)</small><table border=\"1\" class=\"dataframe\"><thead><tr><th>Origin State</th><th>damage</th><th>ranking</th></tr><tr><td>str</td><td>i64</td><td>u32</td></tr></thead><tbody><tr><td>&quot;California&quot;</td><td>29671432</td><td>3</td></tr></tbody></table></div>"
            ]
          },
          "metadata": {}
        }
      ],
      "source": [
        "# Your code here\n",
        "\n",
        "damage_state = (\n",
        "    strikes\n",
        "    .group_by('Origin State')\n",
        "    .agg(\n",
        "        damage = pl.col('Cost: Total $').sum()\n",
        "    )\n",
        "    .with_columns(\n",
        "        dummy_key = pl.lit(1) # Add a dummy column for partitioning\n",
        "    )\n",
        "    .with_columns(\n",
        "        ranking = pl.col('damage').rank(method='min', descending=True).over(['dummy_key']) # Partition by the dummy column\n",
        "    )\n",
        "    .filter(pl.col('ranking') == 3)\n",
        "    .drop('dummy_key') # Drop the dummy column\n",
        ")\n",
        "\n",
        "display(damage_state)"
      ]
    },
    {
      "cell_type": "markdown",
      "metadata": {
        "id": "nJTEdymm1BY3"
      },
      "source": [
        "## Question 3: What are the second costliest Species Groups for each Aircraft Type?\n",
        "\n",
        "The FAA wants to know if some species groups are more dangerous to particular types of aircraft. Using the `strikes` dataframe: first, sum financial damage (`Cost: Total $`) information by `Aircraft: Type` and `Wildlife: Species Group` (name the new field `damage`). Rank the rows within each `Aircraft: Type` based on the greatest amount of `damage`; when performing the ranking function, name the new column `ranking`. Return the rows that represent the `Wildlife: Species Group` values that caused the **second most** financial `damage` to each `Aircraft: Type`. Name the resulting dataframe `type_species`.\n",
        "\n",
        "*Please place a Python code block and code below. The output should be a DataFrame. You must use a ranking function to receive credit on this question.*"
      ]
    },
    {
      "cell_type": "code",
      "execution_count": 22,
      "metadata": {
        "colab": {
          "base_uri": "https://localhost:8080/",
          "height": 192
        },
        "id": "zZztM7Jb1BY3",
        "outputId": "5e115f88-bd46-4a6e-e135-5395305227a0"
      },
      "outputs": [
        {
          "output_type": "display_data",
          "data": {
            "text/plain": [
              "shape: (3, 4)\n",
              "┌────────────────┬─────────────────────────┬──────────┬─────────┐\n",
              "│ Aircraft: Type ┆ Wildlife: Species Group ┆ damage   ┆ ranking │\n",
              "│ ---            ┆ ---                     ┆ ---      ┆ ---     │\n",
              "│ str            ┆ str                     ┆ i64      ┆ u32     │\n",
              "╞════════════════╪═════════════════════════╪══════════╪═════════╡\n",
              "│ NA             ┆ Vultures                ┆ 56227    ┆ 2       │\n",
              "│ Airplane       ┆ Kites, Hawks, Eagles    ┆ 48989287 ┆ 2       │\n",
              "│ Helicopter     ┆ Vultures                ┆ 116748   ┆ 2       │\n",
              "└────────────────┴─────────────────────────┴──────────┴─────────┘"
            ],
            "text/html": [
              "<div><style>\n",
              ".dataframe > thead > tr,\n",
              ".dataframe > tbody > tr {\n",
              "  text-align: right;\n",
              "  white-space: pre-wrap;\n",
              "}\n",
              "</style>\n",
              "<small>shape: (3, 4)</small><table border=\"1\" class=\"dataframe\"><thead><tr><th>Aircraft: Type</th><th>Wildlife: Species Group</th><th>damage</th><th>ranking</th></tr><tr><td>str</td><td>str</td><td>i64</td><td>u32</td></tr></thead><tbody><tr><td>&quot;NA&quot;</td><td>&quot;Vultures&quot;</td><td>56227</td><td>2</td></tr><tr><td>&quot;Airplane&quot;</td><td>&quot;Kites, Hawks, Eagles&quot;</td><td>48989287</td><td>2</td></tr><tr><td>&quot;Helicopter&quot;</td><td>&quot;Vultures&quot;</td><td>116748</td><td>2</td></tr></tbody></table></div>"
            ]
          },
          "metadata": {}
        }
      ],
      "source": [
        "# Your code here\n",
        "\n",
        "type_species = (\n",
        "    strikes\n",
        "    .group_by(['Aircraft: Type', 'Wildlife: Species Group'])\n",
        "    .agg(\n",
        "        damage = pl.col('Cost: Total $').sum()\n",
        "    )\n",
        "    .with_columns(\n",
        "        ranking = pl.col('damage').rank(method='min', descending=True).over(['Aircraft: Type'])\n",
        "    )\n",
        "    .filter(pl.col('ranking') == 2)\n",
        ")\n",
        "\n",
        "display(type_species)"
      ]
    },
    {
      "cell_type": "markdown",
      "metadata": {
        "id": "uLMziY-m1BY3"
      },
      "source": [
        "## Question 4: Which days had the greatest positive jump in strikes?\n",
        "\n",
        "The FAA wants to investigate which days had the largest increase in strikes from the previous day. Using the `strikes` dataframe: sum the `Number of Strikes` measure by day (note: not by day and time). You can use a similar technique from Question 1 to create a new column from `Collision Date and Time` without time information and with date information (name this column `date`). Next, compute the previous day's strikes using a window function (name the new column `previous_day`), and calculate the difference of strikes between the current day and the previous day (name the new column `delta_strikes`). Sort the resulting data by `delta_strikes` in descending order to find which days had the highest increase of strikes from the previous day. Name the resulting dataframe `greatest_strike_increase`.\n",
        "\n",
        "**Hint:** This code is more involved that other exercises, so I will explicitly name the steps to answer the question.\n",
        "\n",
        "1. Start with the `strikes` data frame\n",
        "2. Create a new column called `date` which removes the time information in the `Collision Date and Time` column\n",
        "3. Sum the `Number of Strikes` by `date`, and name the new column `daily_strikes`\n",
        "4. Sort by the `date` column in ascending order\n",
        "5. Create a new column called `previous_day` to calculate what the `daily_strikes` were in the previous day\n",
        "6. Create a new column called `delta_strikes` which subtracts `previous_day` from `daily_strikes`\n",
        "7. Sort in descending order by `delta_strikes`\n",
        "\n",
        "*Please place a Python code block and code below. The output should be a DataFrame. You must use a window function to receive credit on this question.*"
      ]
    },
    {
      "cell_type": "code",
      "execution_count": 24,
      "metadata": {
        "colab": {
          "base_uri": "https://localhost:8080/",
          "height": 443
        },
        "id": "ygz5cBRB1BY3",
        "outputId": "3eb2627f-a98d-4e59-8c09-f72fc6967b6f"
      },
      "outputs": [
        {
          "output_type": "display_data",
          "data": {
            "text/plain": [
              "shape: (5_285, 4)\n",
              "┌────────────┬───────────────┬──────────────┬───────────────┐\n",
              "│ date       ┆ daily_strikes ┆ previous_day ┆ delta_strikes │\n",
              "│ ---        ┆ ---           ┆ ---          ┆ ---           │\n",
              "│ date       ┆ i64           ┆ i64          ┆ i64           │\n",
              "╞════════════╪═══════════════╪══════════════╪═══════════════╡\n",
              "│ 2010-10-29 ┆ 25            ┆ 7            ┆ 18            │\n",
              "│ 2014-08-25 ┆ 25            ┆ 8            ┆ 17            │\n",
              "│ 2012-06-28 ┆ 21            ┆ 5            ┆ 16            │\n",
              "│ 2009-07-07 ┆ 21            ┆ 7            ┆ 14            │\n",
              "│ 2013-11-04 ┆ 22            ┆ 8            ┆ 14            │\n",
              "│ …          ┆ …             ┆ …            ┆ …             │\n",
              "│ 2012-06-29 ┆ 6             ┆ 21           ┆ -15           │\n",
              "│ 2012-10-14 ┆ 5             ┆ 20           ┆ -15           │\n",
              "│ 2014-08-26 ┆ 10            ┆ 25           ┆ -15           │\n",
              "│ 2014-10-29 ┆ 5             ┆ 24           ┆ -19           │\n",
              "│ 2013-08-20 ┆ 8             ┆ 28           ┆ -20           │\n",
              "└────────────┴───────────────┴──────────────┴───────────────┘"
            ],
            "text/html": [
              "<div><style>\n",
              ".dataframe > thead > tr,\n",
              ".dataframe > tbody > tr {\n",
              "  text-align: right;\n",
              "  white-space: pre-wrap;\n",
              "}\n",
              "</style>\n",
              "<small>shape: (5_285, 4)</small><table border=\"1\" class=\"dataframe\"><thead><tr><th>date</th><th>daily_strikes</th><th>previous_day</th><th>delta_strikes</th></tr><tr><td>date</td><td>i64</td><td>i64</td><td>i64</td></tr></thead><tbody><tr><td>2010-10-29</td><td>25</td><td>7</td><td>18</td></tr><tr><td>2014-08-25</td><td>25</td><td>8</td><td>17</td></tr><tr><td>2012-06-28</td><td>21</td><td>5</td><td>16</td></tr><tr><td>2009-07-07</td><td>21</td><td>7</td><td>14</td></tr><tr><td>2013-11-04</td><td>22</td><td>8</td><td>14</td></tr><tr><td>&hellip;</td><td>&hellip;</td><td>&hellip;</td><td>&hellip;</td></tr><tr><td>2012-06-29</td><td>6</td><td>21</td><td>-15</td></tr><tr><td>2012-10-14</td><td>5</td><td>20</td><td>-15</td></tr><tr><td>2014-08-26</td><td>10</td><td>25</td><td>-15</td></tr><tr><td>2014-10-29</td><td>5</td><td>24</td><td>-19</td></tr><tr><td>2013-08-20</td><td>8</td><td>28</td><td>-20</td></tr></tbody></table></div>"
            ]
          },
          "metadata": {}
        }
      ],
      "source": [
        "# Your code here\n",
        "\n",
        "daily_strikes = (\n",
        "    strikes\n",
        "    .with_columns(\n",
        "        date = pl.col('Collision Date and Time').str.slice(0,10).str.strptime(pl.Date, \"%Y-%m-%d\")\n",
        "    )\n",
        "    .group_by('date')\n",
        "    .agg(\n",
        "        daily_strikes = pl.col('Number of Strikes').sum()\n",
        "    )\n",
        "    .sort('date') # Sort by date before calculating the difference\n",
        ")\n",
        "\n",
        "\n",
        "greatest_strike_increase = (\n",
        "    daily_strikes\n",
        "    .with_columns(\n",
        "        previous_day = pl.col('daily_strikes').shift(1).fill_null(0) # Calculate previous day strikes and fill nulls with 0\n",
        "    )\n",
        "    .with_columns(\n",
        "        delta_strikes = pl.col('daily_strikes') - pl.col('previous_day')\n",
        "    )\n",
        "    .sort('delta_strikes', descending=True)\n",
        ")\n",
        "\n",
        "display(greatest_strike_increase)"
      ]
    },
    {
      "cell_type": "markdown",
      "metadata": {
        "id": "8WHuwY101BY3"
      },
      "source": [
        "## Question 5: Which single day had the greatest increase in strikes for each `Aircraft: Type`?\n",
        "\n",
        "FAA was interested in the exercise from the last question but now wants to determine the largest delta between days for each `Aircraft: Type`. What are the days that had largest positive change in strikes for each `Aircraft: Type`? In order to answer this question, you will need to perform the exercise from Question 4, but this time include a grouping by `Aircraft: Type`. After grouping by `Aircraft: Type`, add a column called `ranking` and use a window function to determine the day with the largest increase in strikes from the previous day. Name the resulting data frame `greatest_strike_increase_type`\n",
        "\n",
        "NOTE: Helicopters are not struck with a high frequency and will not show up in your analysis; this is fine."
      ]
    },
    {
      "cell_type": "code",
      "execution_count": 27,
      "metadata": {
        "colab": {
          "base_uri": "https://localhost:8080/",
          "height": 161
        },
        "id": "_9g8HXlN1BY3",
        "outputId": "5da43799-9be0-4c70-9166-957aca78cf0b"
      },
      "outputs": [
        {
          "output_type": "display_data",
          "data": {
            "text/plain": [
              "shape: (2, 6)\n",
              "┌────────────────┬────────────┬───────────────┬──────────────┬───────────────┬─────────┐\n",
              "│ Aircraft: Type ┆ date       ┆ daily_strikes ┆ previous_day ┆ delta_strikes ┆ ranking │\n",
              "│ ---            ┆ ---        ┆ ---           ┆ ---          ┆ ---           ┆ ---     │\n",
              "│ str            ┆ date       ┆ i64           ┆ i64          ┆ i64           ┆ u32     │\n",
              "╞════════════════╪════════════╪═══════════════╪══════════════╪═══════════════╪═════════╡\n",
              "│ Airplane       ┆ 2014-08-25 ┆ 25            ┆ 8            ┆ 17            ┆ 1       │\n",
              "│ NA             ┆ 2014-08-04 ┆ 5             ┆ 1            ┆ 4             ┆ 1       │\n",
              "└────────────────┴────────────┴───────────────┴──────────────┴───────────────┴─────────┘"
            ],
            "text/html": [
              "<div><style>\n",
              ".dataframe > thead > tr,\n",
              ".dataframe > tbody > tr {\n",
              "  text-align: right;\n",
              "  white-space: pre-wrap;\n",
              "}\n",
              "</style>\n",
              "<small>shape: (2, 6)</small><table border=\"1\" class=\"dataframe\"><thead><tr><th>Aircraft: Type</th><th>date</th><th>daily_strikes</th><th>previous_day</th><th>delta_strikes</th><th>ranking</th></tr><tr><td>str</td><td>date</td><td>i64</td><td>i64</td><td>i64</td><td>u32</td></tr></thead><tbody><tr><td>&quot;Airplane&quot;</td><td>2014-08-25</td><td>25</td><td>8</td><td>17</td><td>1</td></tr><tr><td>&quot;NA&quot;</td><td>2014-08-04</td><td>5</td><td>1</td><td>4</td><td>1</td></tr></tbody></table></div>"
            ]
          },
          "metadata": {}
        }
      ],
      "source": [
        "# Your code here\n",
        "\n",
        "greatest_strike_increase_type = (\n",
        "    strikes\n",
        "    .with_columns(\n",
        "        date = pl.col('Collision Date and Time').str.slice(0,10).str.strptime(pl.Date, \"%Y-%m-%d\")\n",
        "    )\n",
        "    .group_by(['Aircraft: Type', 'date'])\n",
        "    .agg(\n",
        "        daily_strikes = pl.col('Number of Strikes').sum()\n",
        "    )\n",
        "    .sort(['Aircraft: Type', 'date'])\n",
        "    .with_columns(\n",
        "        previous_day = pl.col('daily_strikes').shift(1).over(['Aircraft: Type']).fill_null(0)\n",
        "    )\n",
        "    .with_columns(\n",
        "        delta_strikes = pl.col('daily_strikes') - pl.col('previous_day')\n",
        "    )\n",
        "    .with_columns(\n",
        "        ranking = pl.col('delta_strikes').rank(method='max', descending=True).over(['Aircraft: Type'])\n",
        "    )\n",
        "    .filter(pl.col('ranking') == 1)\n",
        ")\n",
        "\n",
        "display(greatest_strike_increase_type)"
      ]
    },
    {
      "cell_type": "code",
      "metadata": {
        "colab": {
          "base_uri": "https://localhost:8080/"
        },
        "id": "9d2ca9b1",
        "outputId": "874376cc-3f7b-4e05-e733-d1db6d8d9d54"
      },
      "source": [
        "print(strikes.columns)"
      ],
      "execution_count": 7,
      "outputs": [
        {
          "output_type": "stream",
          "name": "stdout",
          "text": [
            "['Airport: Code\\tAirport: Name\\tOrigin State\\tOrigin State Code\\tCountry\\tAircraft: Type\\tAircraft: Number of engines\\tCollision Date and Time\\tWhen: Time of day\\tWhen: Phase of flight\\tEffect: Amount of damage (detailed)\\tEffect: Impact to flight\\tEffect: Indicated Damage\\tCost: Aircraft time out of service (hours)\\tCost: Total $\\tDays\\tFeet above ground\\tMiles from airport\\tWildlife: Animal Category\\tWildlife: Species Order\\tWildlife: Species Group\\tWildlife: Species\\tWildlife: Species ID\\tNumber of Strikes\\tRecord ID']\n"
          ]
        }
      ]
    }
  ],
  "metadata": {
    "kernelspec": {
      "display_name": "Python 3",
      "language": "python",
      "name": "python3"
    },
    "language_info": {
      "codemirror_mode": {
        "name": "ipython",
        "version": 3
      },
      "file_extension": ".py",
      "mimetype": "text/x-python",
      "name": "python",
      "nbconvert_exporter": "python",
      "pygments_lexer": "ipython3",
      "version": "3.8.0"
    },
    "colab": {
      "provenance": []
    }
  },
  "nbformat": 4,
  "nbformat_minor": 0
}